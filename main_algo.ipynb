{
 "cells": [
  {
   "cell_type": "code",
   "execution_count": 1,
   "metadata": {},
   "outputs": [
    {
     "name": "stderr",
     "output_type": "stream",
     "text": [
      "C:\\Users\\pawan\\AppData\\Local\\Continuum\\anaconda3\\lib\\site-packages\\h5py\\__init__.py:36: FutureWarning: Conversion of the second argument of issubdtype from `float` to `np.floating` is deprecated. In future, it will be treated as `np.float64 == np.dtype(float).type`.\n",
      "  from ._conv import register_converters as _register_converters\n"
     ]
    }
   ],
   "source": [
    "from tensorflow.keras.models import load_model\n",
    "import cv2\n",
    "import os\n",
    "import numpy as np\n"
   ]
  },
  {
   "cell_type": "code",
   "execution_count": 6,
   "metadata": {},
   "outputs": [],
   "source": [
    "def pred(img,model):\n",
    "    re=model.predict(img)\n",
    "    age=round(re[1][0][0])\n",
    "    gender=round(re[0][0][0])\n",
    "    print(re)\n",
    "    return age,gender\n",
    "    "
   ]
  },
  {
   "cell_type": "code",
   "execution_count": 9,
   "metadata": {},
   "outputs": [],
   "source": [
    "def start(folder):\n",
    "    model=load_model('model.h5')\n",
    "    age=[]\n",
    "    gender=[]\n",
    "    \n",
    "    for photo in os.listdir(folder):\n",
    "        face = cv2.imread(folder+photo)\n",
    "        #face = cv2.cvtColor(face,cv2.COLOR_BGR2RGB)\n",
    "        face = cv2.resize(face,(32,32))\n",
    "        face = face.reshape((1,32,32,3))\n",
    "        re_age,re_gender=pred(face,model)\n",
    "        age.append(re_age)\n",
    "        gender.append(re_gender)\n",
    "    return max(age,key=age.count),max(gender,key=gender.count)\n",
    "        \n",
    "    "
   ]
  },
  {
   "cell_type": "code",
   "execution_count": 11,
   "metadata": {},
   "outputs": [
    {
     "name": "stdout",
     "output_type": "stream",
     "text": [
      "[array([[0.9590012]], dtype=float32), array([[31.514332]], dtype=float32)]\n",
      "32.0 1.0\n"
     ]
    }
   ],
   "source": [
    "age,gender=start('picture/')#instead of 'pictures give directory of folder where pictures are'\n",
    "print(age,gender)"
   ]
  },
  {
   "cell_type": "code",
   "execution_count": null,
   "metadata": {},
   "outputs": [],
   "source": []
  }
 ],
 "metadata": {
  "kernelspec": {
   "display_name": "Python 3",
   "language": "python",
   "name": "python3"
  },
  "language_info": {
   "codemirror_mode": {
    "name": "ipython",
    "version": 3
   },
   "file_extension": ".py",
   "mimetype": "text/x-python",
   "name": "python",
   "nbconvert_exporter": "python",
   "pygments_lexer": "ipython3",
   "version": "3.6.5"
  }
 },
 "nbformat": 4,
 "nbformat_minor": 2
}
